{
 "cells": [
  {
   "cell_type": "code",
   "execution_count": 1,
   "metadata": {},
   "outputs": [
    {
     "name": "stdout",
     "output_type": "stream",
     "text": [
      "2                 5-fluorocytosine\n",
      "5                 Abacavir Sulfate\n",
      "8      Acetopromazine maleate salt\n",
      "12       Alexidine dihydrochloride\n",
      "19                Amikacin hydrate\n",
      "                  ...             \n",
      "584                     Vancomycin\n",
      "585       Vancomycin hydrochloride\n",
      "589                     Vidarabine\n",
      "594                   Voriconazole\n",
      "597                     Zidovudine\n",
      "Name: U1, Length: 228, dtype: object\n"
     ]
    }
   ],
   "source": [
    "import pandas as pd\n",
    "\n",
    "# create a sample DataFrame\n",
    "df = pd.read_csv('u1.csv')\n",
    "col_values = df['U2'].tolist()\n",
    "# get the values absent in the second column\n",
    "absent_values = df.loc[~df['U1'].isin(df['U2']), 'U1']\n",
    "\n",
    "print(absent_values)\n"
   ]
  },
  {
   "cell_type": "code",
   "execution_count": 2,
   "metadata": {},
   "outputs": [],
   "source": [
    "df1 = pd.read_csv('masi_matrix.csv')\n",
    "df1 = df1.drop(columns=absent_values)\n",
    "csv_file_path = 'MM.csv'\n",
    "df1.to_csv(csv_file_path, index=False, mode='a')\n",
    "\n"
   ]
  },
  {
   "cell_type": "code",
   "execution_count": 3,
   "metadata": {},
   "outputs": [
    {
     "data": {
      "text/html": [
       "<div>\n",
       "<style scoped>\n",
       "    .dataframe tbody tr th:only-of-type {\n",
       "        vertical-align: middle;\n",
       "    }\n",
       "\n",
       "    .dataframe tbody tr th {\n",
       "        vertical-align: top;\n",
       "    }\n",
       "\n",
       "    .dataframe thead th {\n",
       "        text-align: right;\n",
       "    }\n",
       "</style>\n",
       "<table border=\"1\" class=\"dataframe\">\n",
       "  <thead>\n",
       "    <tr style=\"text-align: right;\">\n",
       "      <th></th>\n",
       "      <th>Unnamed: 0</th>\n",
       "      <th>5-aminosalicylic acid</th>\n",
       "      <th>5-fluoro-2'-deoxyuridine</th>\n",
       "      <th>5-fluorouracil</th>\n",
       "      <th>6-Mercaptopurine-2′-deoxyriboside</th>\n",
       "      <th>AQ4N</th>\n",
       "      <th>Acecainide</th>\n",
       "      <th>Acenocoumarol</th>\n",
       "      <th>Actinomycin</th>\n",
       "      <th>Adalimumab</th>\n",
       "      <th>...</th>\n",
       "      <th>Vitamin D</th>\n",
       "      <th>Zafirlukast</th>\n",
       "      <th>Zaleplon</th>\n",
       "      <th>Zileuton</th>\n",
       "      <th>Ziprasidone  Hydrochloride</th>\n",
       "      <th>Ziprasidone mesylate</th>\n",
       "      <th>Zonisamide</th>\n",
       "      <th>Zotepine</th>\n",
       "      <th>Zuclopenthixol dihydrochloride</th>\n",
       "      <th>Β-Lapachone</th>\n",
       "    </tr>\n",
       "  </thead>\n",
       "  <tbody>\n",
       "    <tr>\n",
       "      <th>0</th>\n",
       "      <td>Acinetobacter baumannii TCDC-AB0715</td>\n",
       "      <td>0</td>\n",
       "      <td>0</td>\n",
       "      <td>0</td>\n",
       "      <td>0</td>\n",
       "      <td>0</td>\n",
       "      <td>0</td>\n",
       "      <td>0</td>\n",
       "      <td>0</td>\n",
       "      <td>0</td>\n",
       "      <td>...</td>\n",
       "      <td>0</td>\n",
       "      <td>0</td>\n",
       "      <td>0</td>\n",
       "      <td>0</td>\n",
       "      <td>0</td>\n",
       "      <td>0</td>\n",
       "      <td>0</td>\n",
       "      <td>0</td>\n",
       "      <td>0</td>\n",
       "      <td>0</td>\n",
       "    </tr>\n",
       "    <tr>\n",
       "      <th>1</th>\n",
       "      <td>Acinetobacter haemolyticus ATCC 19194</td>\n",
       "      <td>0</td>\n",
       "      <td>0</td>\n",
       "      <td>0</td>\n",
       "      <td>0</td>\n",
       "      <td>0</td>\n",
       "      <td>0</td>\n",
       "      <td>0</td>\n",
       "      <td>0</td>\n",
       "      <td>0</td>\n",
       "      <td>...</td>\n",
       "      <td>0</td>\n",
       "      <td>0</td>\n",
       "      <td>0</td>\n",
       "      <td>0</td>\n",
       "      <td>0</td>\n",
       "      <td>0</td>\n",
       "      <td>0</td>\n",
       "      <td>0</td>\n",
       "      <td>0</td>\n",
       "      <td>0</td>\n",
       "    </tr>\n",
       "    <tr>\n",
       "      <th>2</th>\n",
       "      <td>Actinomyces coleocanis DSM 15436</td>\n",
       "      <td>0</td>\n",
       "      <td>0</td>\n",
       "      <td>0</td>\n",
       "      <td>0</td>\n",
       "      <td>0</td>\n",
       "      <td>0</td>\n",
       "      <td>0</td>\n",
       "      <td>0</td>\n",
       "      <td>0</td>\n",
       "      <td>...</td>\n",
       "      <td>0</td>\n",
       "      <td>0</td>\n",
       "      <td>0</td>\n",
       "      <td>0</td>\n",
       "      <td>0</td>\n",
       "      <td>0</td>\n",
       "      <td>0</td>\n",
       "      <td>0</td>\n",
       "      <td>0</td>\n",
       "      <td>0</td>\n",
       "    </tr>\n",
       "    <tr>\n",
       "      <th>3</th>\n",
       "      <td>Actinomyces sp. oral taxon 170 str. F0386</td>\n",
       "      <td>0</td>\n",
       "      <td>0</td>\n",
       "      <td>0</td>\n",
       "      <td>0</td>\n",
       "      <td>0</td>\n",
       "      <td>0</td>\n",
       "      <td>0</td>\n",
       "      <td>0</td>\n",
       "      <td>0</td>\n",
       "      <td>...</td>\n",
       "      <td>0</td>\n",
       "      <td>0</td>\n",
       "      <td>0</td>\n",
       "      <td>0</td>\n",
       "      <td>0</td>\n",
       "      <td>0</td>\n",
       "      <td>0</td>\n",
       "      <td>0</td>\n",
       "      <td>0</td>\n",
       "      <td>0</td>\n",
       "    </tr>\n",
       "    <tr>\n",
       "      <th>4</th>\n",
       "      <td>Adlercreutzia equolifaciens</td>\n",
       "      <td>0</td>\n",
       "      <td>0</td>\n",
       "      <td>0</td>\n",
       "      <td>0</td>\n",
       "      <td>0</td>\n",
       "      <td>0</td>\n",
       "      <td>0</td>\n",
       "      <td>0</td>\n",
       "      <td>0</td>\n",
       "      <td>...</td>\n",
       "      <td>0</td>\n",
       "      <td>0</td>\n",
       "      <td>0</td>\n",
       "      <td>0</td>\n",
       "      <td>0</td>\n",
       "      <td>0</td>\n",
       "      <td>0</td>\n",
       "      <td>0</td>\n",
       "      <td>0</td>\n",
       "      <td>0</td>\n",
       "    </tr>\n",
       "  </tbody>\n",
       "</table>\n",
       "<p>5 rows × 380 columns</p>\n",
       "</div>"
      ],
      "text/plain": [
       "                                  Unnamed: 0  5-aminosalicylic acid  \\\n",
       "0        Acinetobacter baumannii TCDC-AB0715                      0   \n",
       "1      Acinetobacter haemolyticus ATCC 19194                      0   \n",
       "2           Actinomyces coleocanis DSM 15436                      0   \n",
       "3  Actinomyces sp. oral taxon 170 str. F0386                      0   \n",
       "4                Adlercreutzia equolifaciens                      0   \n",
       "\n",
       "   5-fluoro-2'-deoxyuridine  5-fluorouracil  \\\n",
       "0                         0               0   \n",
       "1                         0               0   \n",
       "2                         0               0   \n",
       "3                         0               0   \n",
       "4                         0               0   \n",
       "\n",
       "   6-Mercaptopurine-2′-deoxyriboside  AQ4N  Acecainide  Acenocoumarol  \\\n",
       "0                                  0     0           0              0   \n",
       "1                                  0     0           0              0   \n",
       "2                                  0     0           0              0   \n",
       "3                                  0     0           0              0   \n",
       "4                                  0     0           0              0   \n",
       "\n",
       "   Actinomycin  Adalimumab  ...  Vitamin D  Zafirlukast  Zaleplon  Zileuton  \\\n",
       "0            0           0  ...          0            0         0         0   \n",
       "1            0           0  ...          0            0         0         0   \n",
       "2            0           0  ...          0            0         0         0   \n",
       "3            0           0  ...          0            0         0         0   \n",
       "4            0           0  ...          0            0         0         0   \n",
       "\n",
       "   Ziprasidone  Hydrochloride  Ziprasidone mesylate  Zonisamide  Zotepine  \\\n",
       "0                           0                     0           0         0   \n",
       "1                           0                     0           0         0   \n",
       "2                           0                     0           0         0   \n",
       "3                           0                     0           0         0   \n",
       "4                           0                     0           0         0   \n",
       "\n",
       "   Zuclopenthixol dihydrochloride  Β-Lapachone  \n",
       "0                               0            0  \n",
       "1                               0            0  \n",
       "2                               0            0  \n",
       "3                               0            0  \n",
       "4                               0            0  \n",
       "\n",
       "[5 rows x 380 columns]"
      ]
     },
     "execution_count": 3,
     "metadata": {},
     "output_type": "execute_result"
    }
   ],
   "source": [
    "df12 = pd.read_csv('MM.csv')\n",
    "df12.head()"
   ]
  },
  {
   "cell_type": "code",
   "execution_count": 4,
   "metadata": {},
   "outputs": [
    {
     "name": "stdout",
     "output_type": "stream",
     "text": [
      "380\n"
     ]
    }
   ],
   "source": [
    "num_cols = df12.shape[1]\n",
    "print(num_cols)"
   ]
  },
  {
   "cell_type": "code",
   "execution_count": 5,
   "metadata": {},
   "outputs": [],
   "source": [
    "cols_list = df12.columns.tolist()"
   ]
  },
  {
   "cell_type": "code",
   "execution_count": null,
   "metadata": {},
   "outputs": [],
   "source": []
  },
  {
   "cell_type": "code",
   "execution_count": 6,
   "metadata": {},
   "outputs": [
    {
     "name": "stdout",
     "output_type": "stream",
     "text": [
      "['5-aminosalicylic acid', \"5-fluoro-2'-deoxyuridine\", '5-fluorouracil', '6-Mercaptopurine-2′-deoxyriboside', 'AQ4N', 'Acecainide', 'Acenocoumarol', 'Actinomycin', 'Adalimumab', 'Albendazole', 'Alfacalcidol', 'Alfuzosin', 'Altretamine', 'Alverine citrate salt', 'Amantadine', 'Amethopterin (R,S)', 'Amiodarone', 'Amiodarone hydrochloride', 'Amlodipine', 'Amoxapine', 'Anagrelide', 'Anastrozole', 'Anethole-trithione', 'Anthralin', 'Aprepitant', 'Ara G hydrate', 'Aripiprazole', 'Asenapine maleate', 'Aspirin', 'Astemizole', 'Auranofin', 'Azacytidine-5', 'Azaguanine-8', 'Azathioprine', 'Azelastine HCl', 'Benfluorex hydrochloride', 'Benzbromarone', 'Benzthiazide', 'Benzydamine hydrochloride', 'Bepridil hydrochloride', 'Beta blockers', 'Betamethasone acetate', 'Betamethasone valerate', 'Betaxolol hydrochloride', 'Bezafibrate', 'Bicalutamide', 'Biperiden', 'Bisacodyl', 'Bosentan', 'Bromocriptine mesylate', 'Bromperidol', 'Budesonide', 'Bufexamac', 'Bupropion', 'Butamben', 'CB1954', 'CTLA-4 blockade', 'Camptothecin', 'Camylofine dihydrochloride', 'Capecitabine', 'Carbenoxolone disodium salt', 'Carbetapentane citrate', 'Carisoprodol', 'Carvedilol', 'Cetirizine', 'Chlorcyclizine hydrochloride', 'Chlormezanone', 'Chlorotrianisene', 'Chlorpheniramine maleate', 'Chlorpromazine hydrochloride', 'Chlorprothixene hydrochloride', 'Cilnidipine', 'Cimetidine', 'Cinnarizine', 'Cladribine', 'Clemastine fumarate', 'Clemizole', 'Clemizole hydrochloride', 'Clofarabine', 'Clofilium tosylate', 'Clomiphene citrate (Z,E)', 'Clomipramine hydrochloride', 'Clonidine', 'Clopidogrel sulfate', 'Cyclobenzaprine hydrochloride', 'Cyclopenthiazide', 'Cyclophosphamide', 'Cyclosporin A', 'Cyproheptadine hydrochloride', 'Cyproterone acetate', 'Cytarabine', 'Dacarbazine', 'Danazol', 'Dantrolene sodium salt', 'Darifenacin hydrobromide', 'Dasatinib', 'Daunorubicin', 'Daunorubicin hydrochloride', 'Deflazacort', 'Demecarium bromide', 'Deptropine citrate', 'Dexamethasone', 'Diacerein', 'Diacetamate', 'Diclofenac', 'Dicyclomine', 'Dicyclomine hydrochloride', 'Diethylstilbestrol', 'Diflorasone diacetate', 'Digoxin', 'Diltiazem', 'Dimethisoquin hydrochloride', 'Diphenylpyraline', 'Dipyridamole', 'Disulfiram', 'Doxazosin mesylate', 'Drospirenone', 'Duloxetine', 'Ebselen', 'Eburnamonine (-)', 'Enalapril maleate', 'Entacapone', 'Epirizole', 'Ergonovine maleate', 'Ergotamine tartrate', 'Erlotinib', 'Estradiol Valerate', 'Estramustine', 'Estropipate', 'Eszopiclone', 'Ethaverine hydrochloride', 'Ethopropazine', 'Ethopropazine hydrochloride', 'Ethoxzolamide', 'Etodolac', 'Etofenamate', 'Etomidate', 'Etoposide', 'Etretinate', 'Ezetimibe', 'Fadrozole hydrochloride', 'Famprofazone', 'Febuxostat', 'Felodipine', 'Fenbendazole', 'Fenbufen', 'Fendiline hydrochloride', 'Fenofibrate', 'Fenspiride', 'Fentiazac', 'Fexofenadine HCl', 'Finasteride', 'Floxuridine', 'Fludarabine', 'Fludarabine de phosphate', 'Flufenamic acid', 'Flunarizine dihydrochloride', 'Flunixin meglumine', 'Fluorometholone', 'Fluphenazine', 'Fluphenazine dihydrochloride', 'Fluspirilen', 'Fluvoxamine maleate', 'Gemcitabine', 'Glafenine hydrochloride', 'Gliclazide', 'Glipizide', 'Gliquidone', 'Glycyrrhizic acid', 'Guanadrel sulfate', 'Haloperidol', 'Hexestrol', 'Hydrocortisone base', 'Ibutilide fumarate', 'Idarubicin', 'Idebenone', 'Imatinib', 'Imiquimod', 'Indomethacin', 'Infliximab', 'Iocetamic acid', 'Iohexol', 'Iopanoic acid', 'Irbesartan', 'Irinotecan', 'Irsogladine maleate', 'Ketorolac tromethamine', 'Lacidipine', 'Lactulose', 'Lansoprazole', 'Leflunomide', 'Levodopa', 'Levonorgestrel', 'Lidoflazine', 'Linagliptin', 'Lofexidine ', 'Loperamide hydrochloride', 'Losartan', 'Loxapine succinate', 'Lynestrenol', 'Mebhydroline 1,5-naphtalenedisulfonate', 'Meclofenamic acid sodium salt monohydrate', 'Meclozine dihydrochloride', 'Megestrol acetate', 'Melphalan', 'Memantine', 'Menadione', 'Mesalazine', 'Mesoridazine besylate', 'Metaxalone', 'Metergoline', 'Metformin', 'Methantheline bromide', 'Methiazole', 'Methiothepin maleate', 'Methotrexate', 'Methotrimeprazine maleat salt', 'Methsuximide', 'Methylphenidate', 'Methysergide maleate', 'Metitepine maleate', 'Metixene hydrochloride', 'Metoprolol tartrate', 'Mevastatin', 'Mifepristone', 'Minocycline hydrochloride', 'Mitomycin C', 'Mitotane', 'Mitoxantrone', 'Mometasone furoate', 'Montelukast', 'Moricizine hydrochloride', 'Mycophenolate mofetil', 'Nabumetone', 'Nafronyl oxalate', 'Naftopidil', 'Naftopidil dihydrochloride', 'Naproxen(+)', 'Nateglinide', 'Nefazodone HCl', 'Nelarabine', 'Neostigmine bromide', 'Nicergoline', 'Niclosamide', 'Nicorandil', 'Nifurtimox', 'Nilutamide', 'Nimesulide', 'Nimodipine', 'Nitrazepam', 'Nitrendipine', 'Nitrobenzodiazepine', 'Nizatidine', 'Norcyclobenzaprine', 'Norgestimate', 'Olanzapine', 'Olmesartan medoxomil', 'Omeprazole', 'Oorethindrone acetate', 'Oorgestimate', 'Ooscapine', 'Orphenadrine citrate', 'Oxaprozin', 'Oxcarbazepine', 'Oxethazaine', 'Oxybutynin chloride', 'Paclitaxel', 'Paliperidone', 'Paracetamol', 'Pemirolast potassium', 'Penbutolol sulfate', 'Pentostatin', 'Perhexiline maleate', 'Pericyazine', 'Perphenazine', 'Phenazopyridine', 'Phenindione', 'Phenytoin sodium', 'Picosulfuric acid', 'Pidotimod', 'Pimethixene maleate', 'Pimozide', 'Pinaverium bromide', 'Pioglitazone', 'Pizotifen malate', 'Pranlukast', 'Pranoprofen', 'Prenylamine lactate', 'Pridinol methanesulfonate salt', 'Prilocaine hydrochloride', 'Procarbazine', 'Prochlorperazine dimaleate', 'Promazine hydrochloride', 'Promethazine hydrochloride', 'Proton pump inhibitors', 'Protriptyline hydrochloride', 'Pyrvinium pamoate', 'Quetiapine hemifumarate', 'Quinapril', 'R(-) Apomorphine hydrochloride hemihydrate', 'Rabeprazole Sodium salt', 'Racecadotril', 'Racepinephrine HCl', 'Raloxifene hydrochloride', 'Ramelteon', 'Ramipril', 'Rebamipide', 'Repaglinide', 'Riluzole', 'Riluzole hydrochloride', 'Risperidone', 'Rizatriptan benzoate', 'Rosuvastatin', 'Roxatidine acetate', 'Salmeterol', 'Secoisolariciresinol', 'Sertindole', 'Sildenafil citrate', 'Sotalol', 'Spiperone', 'Stanozolol', 'Statins', 'Streptozotocin', 'Sulfasalazine', 'Sulfinpyrazone', 'Suloctidil', 'Sulpiride', 'Sumatriptan succinate', 'Sunitinib', 'Tacrolimus', 'Tadalafil', 'Tamoxifen', 'Tamoxifen citrate', 'Tegafur', 'Telmisartan', 'Temozolomide', 'Tenatoprazole', 'Terfenadine', 'Testosterone propionate', 'Thiethylperazine dimalate', 'Thioguanosine', 'Thioridazine hydrochloride', 'Thiothixene', 'Thonzonium bromide', 'Thyroxine (L)', \"Tiratricol, 3,3',5-triiodothyroacetic acid\", 'Tolazamide', 'Tolfenamic acid', 'Toremifene', 'Trandolapril', 'Tranilast', 'Trazodone hydrochloride', 'Tretazicar', 'Tribenoside', 'Trifluoperazine dihydrochloride', 'Triflupromazine hydrochloride', 'Trihexyphenidyl', 'Trimebutine maleate', 'Trimeprazine tartrate', 'Trimetazidine dihydrochloride', 'Troglitazone', 'Ustekinumab', 'Valsartan', 'Vardenafil', 'Vecuronium bromide', 'Vedolizumab', 'Vilazodone', 'Vinblastine', 'Vinpocetine', 'Vitamin D', 'Zafirlukast', 'Zaleplon', 'Zileuton', 'Ziprasidone  Hydrochloride', 'Ziprasidone mesylate', 'Zonisamide', 'Zotepine', 'Zuclopenthixol dihydrochloride', 'Β-Lapachone']\n",
      "['5-aminosalicylic acid / Mesalamine', \"5-fluoro-2'-deoxyuridine\", '5-fluorouracil', '6-Mercaptopurine-2′-deoxyriboside', 'Acecainide', 'Acenocoumarol', 'Actinomycin', 'Adalimumab', 'Albendazole', 'Alfacalcidol', 'Alfuzosin', 'Altretamine', 'Alverine citrate salt', 'Amantadine', 'Amethopterin / Methotrexate', 'Amiodarone', 'Amiodarone hydrochloride', 'Amlodipine', 'Amoxapine', 'Anagrelide', 'Anastrozole', 'Anethole-trithione', 'Anthralin', 'Aprepitant', 'AQ4N', 'Ara G hydrate', 'Aripiprazole', 'Asenapine maleate', 'Aspirin', 'Astemizole', 'Auranofin', 'Azacytidine-5', 'Azaguanine-8', 'Azathioprine', 'Azelastine HCl', 'Benfluorex hydrochloride', 'Benzbromarone', 'Benzthiazide', 'Benzydamine hydrochloride', 'Bepridil hydrochloride', 'Beta blockers', 'Betamethasone acetate', 'Betamethasone valerate', 'Betaxolol hydrochloride', 'Bezafibrate', 'Bicalutamide', 'Biperiden', 'Bisacodyl', 'Bosentan', 'Bromocriptine mesylate', 'Bromperidol', 'Budesonide', 'Bufexamac', 'Bupropion', 'Butamben', 'Camptothecin', 'Camylofine dihydrochloride', 'Capecitabine', 'Carbenoxolone disodium salt', 'Carbetapentane citrate', 'Carisoprodol', 'Carvedilol', 'CB1954', 'Cetirizine', 'Chlorcyclizine hydrochloride', 'Chlormezanone', 'Chlorotrianisene', 'Chlorpheniramine maleate', 'Chlorpromazine hydrochloride', 'Chlorprothixene hydrochloride', 'Cilnidipine', 'Cimetidine', 'Cinnarizine', 'Cladribine', 'Clemastine fumarate', 'Clemizole', 'Clemizole hydrochloride', 'Clofarabine', 'Clofilium tosylate', 'Clomiphene citrate (Z,E)', 'Clomipramine hydrochloride', 'Clonidine', 'Clopidogrel sulfate', 'CTLA-4 blockade', 'Cyclobenzaprine hydrochloride', 'Cyclopenthiazide', 'Cyclophosphamide', 'Cyclosporin A', 'Cyproheptadine hydrochloride', 'Cyproterone acetate', 'Cytarabine', 'Dacarbazine', 'Danazol', 'Dantrolene sodium salt', 'Darifenacin hydrobromide', 'Dasatinib', 'Daunorubicin', 'Daunorubicin hydrochloride', 'Deflazacort', 'Demecarium bromide', 'Deptropine citrate', 'Dexamethasone', 'Diacerein', 'Diacetamate', 'Diclofenac', 'Dicyclomine', 'Dicyclomine hydrochloride', 'Diethylstilbestrol', 'Diflorasone diacetate', 'Digoxin', 'Diltiazem', 'Dimethisoquin hydrochloride', 'Diphenylpyraline', 'Dipyridamole', 'Disulfiram', 'Doxazosin mesylate', 'Drospirenone', 'Duloxetine', 'Ebselen', 'Eburnamonine (-)', 'Enalapril maleate', 'Entacapone', 'Epirizole', 'Ergonovine maleate/ ergometrine', 'Ergotamine tartrate', 'Erlotinib', 'Estradiol Valerate', 'Estramustine', 'Estropipate', 'Eszopiclone', 'Ethaverine hydrochloride', 'Ethopropazine / profenamine', 'Ethopropazine hydrochloride', 'Ethoxzolamide', 'Etodolac', 'Etofenamate', 'Etomidate', 'Etoposide', 'Etretinate', 'Ezetimibe', 'Fadrozole hydrochloride', 'Famprofazone', 'Febuxostat', 'Felodipine', 'Fenbendazole', 'Fenbufen', 'Fendiline hydrochloride', 'Fenofibrate', 'Fenspiride', 'Fentiazac', 'Fexofenadine HCl', 'Finasteride', 'Floxuridine', 'Fludarabine', 'Fludarabine phosphate', 'Flufenamic acid', 'Flunarizine dihydrochloride', 'Flunixin meglumine', 'Fluorometholone', 'Fluphenazine', 'Fluphenazine dihydrochloride', 'Fluspirilene', 'Fluvoxamine maleate', 'Gemcitabine', 'Glafenine hydrochloride', 'Gliclazide', 'Glipizide', 'Gliquidone', 'Glycyrrhizic acid', 'Guanadrel sulfate', 'Haloperidol', 'Hexestrol', 'Hydrocortisone base', 'Ibutilide fumarate', 'Idarubicin', 'Idebenone', 'Imatinib', 'Imiquimod', 'Indomethacin', 'Infliximab', 'Iocetamic acid', 'Iohexol', 'Iopanoic acid', 'Irbesartan', 'Irinotecan', 'Irsogladine maleate', 'Ketorolac tromethamine', 'Lacidipine', 'Lactulose', 'Lansoprazole', 'Leflunomide', 'Levodopa', 'Levonorgestrel', 'Lidoflazine', 'Linagliptin', 'Lofexidine ', 'Loperamide hydrochloride', 'Losartan', 'Loxapine succinate', 'Lynestrenol', 'Mebhydroline 1,5-naphtalenedisulfonate', 'Meclofenamic acid sodium salt monohydrate', 'Meclozine dihydrochloride', 'Megestrol acetate', 'Melphalan', 'Memantine', 'Menadione', 'Mesalazine', 'Mesoridazine besylate', 'Metaxalone', 'Metergoline', 'Metformin', 'Methantheline bromide', 'Methimazole', 'Methiothepin maleate', 'Methotrexate', 'Methotrimeprazine maleat salt', 'Methsuximide', 'Methylphenidate', 'Methysergide maleate', 'Metitepine maleate', 'Metixene hydrochloride', 'Metoprolol tartrate', 'Mevastatin', 'Mifepristone', 'Minocycline hydrochloride', 'Mitomycin C', 'Mitotane', 'Mitoxantrone', 'Mometasone furoate', 'Montelukast', 'Moricizine hydrochloride', 'Mycophenolate mofetil', 'Nabumetone', 'Nafronyl oxalate', 'Naftopidil', 'Naftopidil dihydrochloride', 'Naproxen(+)', 'Nateglinide', 'Nefazodone HCl', 'Nelarabine', 'Neostigmine bromide', 'Nicergoline', 'Niclosamide', 'Nicorandil', 'Nifurtimox', 'Nilutamide', 'Nimesulide', 'Nimodipine', 'Nitrazepam', 'Nitrendipine', 'Nitrobenzodiazepine', 'Nizatidine', 'Norcyclobenzaprine', 'Norgestimate', 'Olanzapine', 'Olmesartan medoxomil', 'Omeprazole', 'Norethindrone acetate', 'Norgestimate', 'Noscapine', 'Orphenadrine citrate', 'Oxaprozin', 'Oxcarbazepine', 'Oxethazaine', 'Oxybutynin chloride', 'Paclitaxel', 'Paliperidone', 'Paracetamol', 'Pemirolast potassium', 'Penbutolol sulfate', 'Pentostatin', 'Perhexiline maleate', 'Pericyazine', 'Perphenazine', 'Phenazopyridine', 'Phenindione', 'Phenytoin sodium', 'Picosulfuric acid', 'Pidotimod', 'Pimethixene maleate', 'Pimozide', 'Pinaverium bromide', 'Pioglitazone', 'Pizotifen malate', 'Pranlukast', 'Pranoprofen', 'Prenylamine lactate', 'Pridinol methanesulfonate salt', 'Prilocaine hydrochloride', 'Procarbazine', 'Prochlorperazine dimaleate', 'Promazine hydrochloride', 'Promethazine hydrochloride', 'Protriptyline hydrochloride', 'Pyrvinium pamoate', 'Quetiapine hemifumarate', 'Quinapril', 'R(-) Apomorphine hydrochloride hemihydrate', 'Rabeprazole Sodium salt', 'Racecadotril', 'Racepinephrine HCl', 'Raloxifene hydrochloride', 'Ramelteon', 'Ramipril', 'Rebamipide', 'Repaglinide', 'Riluzole', 'Riluzole hydrochloride', 'Risperidone', 'Rizatriptan benzoate', 'Rosuvastatin', 'Roxatidine acetate', 'Salmeterol', 'Secoisolariciresinol', 'Sertindole', 'Sildenafil citrate', 'Sotalol', 'Spiperone', 'Stanozolol', 'Streptozotocin', 'Sulfasalazine', 'Sulfinpyrazone', 'Suloctidil', 'Sulpiride', 'Sumatriptan succinate', 'Sunitinib', 'Tacrolimus', 'Tadalafil', 'Tamoxifen', 'Tamoxifen citrate', 'Tegafur', 'Telmisartan', 'Temozolomide', 'Tenatoprazole', 'Terfenadine', 'Testosterone propionate', 'Thiethylperazine dimalate', 'Thioguanosine', 'Thioridazine hydrochloride', 'Thiothixene', 'Thonzonium bromide', 'Thyroxine (L)', \"Tiratricol, 3,3',5-triiodothyroacetic acid\", 'Tolazamide', 'Tolfenamic acid', 'Toremifene', 'Trandolapril', 'Tranilast', 'Trazodone hydrochloride', 'Tretazicar', 'Tribenoside', 'Trifluoperazine dihydrochloride', 'Triflupromazine hydrochloride', 'Trihexyphenidyl', 'Trimebutine maleate', 'Trimeprazine tartrate', 'Trimetazidine dihydrochloride', 'Troglitazone', 'Ustekinumab', 'Valsartan', 'Vardenafil', 'Vecuronium bromide', 'Vedolizumab', 'Vilazodone', 'Vinblastine', 'Vinpocetine', 'Vitamin D', 'Zafirlukast', 'Zaleplon', 'Zileuton', 'Ziprasidone  Hydrochloride', 'Ziprasidone mesylate', 'Zonisamide', 'Zotepine', 'Zuclopenthixol dihydrochloride', 'Β-Lapachone', nan, nan, nan, nan, nan, nan, nan, nan, nan, nan, nan, nan, nan, nan, nan, nan, nan, nan, nan, nan, nan, nan, nan, nan, nan, nan, nan, nan, nan, nan, nan, nan, nan, nan, nan, nan, nan, nan, nan, nan, nan, nan, nan, nan, nan, nan, nan, nan, nan, nan, nan, nan, nan, nan, nan, nan, nan, nan, nan, nan, nan, nan, nan, nan, nan, nan, nan, nan, nan, nan, nan, nan, nan, nan, nan, nan, nan, nan, nan, nan, nan, nan, nan, nan, nan, nan, nan, nan, nan, nan, nan, nan, nan, nan, nan, nan, nan, nan, nan, nan, nan, nan, nan, nan, nan, nan, nan, nan, nan, nan, nan, nan, nan, nan, nan, nan, nan, nan, nan, nan, nan, nan, nan, nan, nan, nan, nan, nan, nan, nan, nan, nan, nan, nan, nan, nan, nan, nan, nan, nan, nan, nan, nan, nan, nan, nan, nan, nan, nan, nan, nan, nan, nan, nan, nan, nan, nan, nan, nan, nan, nan, nan, nan, nan, nan, nan, nan, nan, nan, nan, nan, nan, nan, nan, nan, nan, nan, nan, nan, nan, nan, nan, nan, nan, nan, nan, nan, nan, nan, nan, nan, nan, nan, nan, nan, nan, nan, nan, nan, nan, nan, nan, nan, nan, nan, nan, nan, nan, nan, nan, nan, nan, nan, nan, nan, nan, nan, nan, nan, nan, nan, nan, nan, nan, nan, nan, nan, nan]\n"
     ]
    }
   ],
   "source": [
    "cols_list.pop(0)\n",
    "print(cols_list)\n",
    "print(col_values)"
   ]
  },
  {
   "cell_type": "code",
   "execution_count": 7,
   "metadata": {},
   "outputs": [
    {
     "name": "stdout",
     "output_type": "stream",
     "text": [
      "379\n",
      "605\n"
     ]
    }
   ],
   "source": [
    "print(len(cols_list))\n",
    "print(len(col_values))"
   ]
  },
  {
   "cell_type": "code",
   "execution_count": 11,
   "metadata": {},
   "outputs": [
    {
     "name": "stdout",
     "output_type": "stream",
     "text": [
      "['5-aminosalicylic acid', \"5-fluoro-2'-deoxyuridine\", '5-fluorocytosine', '5-fluorouracil', '6-Mercaptopurine-2′-deoxyriboside', 'AQ4N', 'Abacavir Sulfate', 'Acecainide', 'Acenocoumarol', 'Acetopromazine maleate salt', 'Actinomycin', 'Adalimumab', 'Albendazole', 'Alexidine dihydrochloride', 'Alfacalcidol', 'Alfuzosin', 'Altretamine', 'Alverine citrate salt', 'Amantadine', 'Amethopterin (R,S)', 'Amikacin hydrate', 'Amiodarone', 'Amiodarone hydrochloride', 'Amlodipine', 'Amodiaquin dihydrochloride dihydrate', 'Amoxapine', 'Amoxicillin', 'Amoxicillin plus metronidazole', 'Ampicillin trihydrate', 'Anagrelide', 'Anastrozole', 'Anethole-trithione', 'Anthralin', 'Aprepitant', 'Ara G hydrate', 'Aripiprazole', 'Asenapine maleate', 'Aspirin', 'Astemizole', 'Atovaquone', 'Auranofin', 'Avermectin B1a', 'Azacytidine-5', 'Azaguanine-8', 'Azathioprine', 'Azelastine HCl', 'Azithromycin', 'Azlocillin', 'Azlocillin sodium salt', 'Aztreonam', 'Bacampicillin hydrochloride', 'Bacitracin', 'Benazepril', 'Benfluorex hydrochloride', 'Benzathine benzylpenicillin', 'Benzbromarone', 'Benzethonium chloride', 'Benzthiazide', 'Benzydamine hydrochloride', 'Benzylpenicillin sodium', 'Bepridil hydrochloride', 'Beta blockers', 'Betamethasone acetate', 'Betamethasone valerate', 'Betaxolol hydrochloride', 'Bezafibrate', 'Bicalutamide', 'Bifonazole', 'Biperiden', 'Bisacodyl', 'Bosentan', 'Brivudine', 'Bromocriptine mesylate', 'Bromperidol', 'Budesonide', 'Bufexamac', 'Bupropion', 'Butamben', 'Butenafine Hydrochloride', 'Butoconazole nitrate', 'Butyric Acid', 'CB1954', 'CTLA-4 blockade', 'Camptothecin', 'Camylofine dihydrochloride', 'Capecitabine', 'Carbadox', 'Carbenoxolone disodium salt', 'Carbetapentane citrate', 'Carboxymethylcellulose', 'Carisoprodol', 'Carvedilol', 'Cefaclor', 'Cefaclor hydrate', 'Cefadroxil', 'Cefazolin sodium salt', 'Cefdinir', 'Cefepime', 'Cefepime hydrochloride', 'Cefixime', 'Cefmetazole', 'Cefmetazole sodium salt', 'Cefoperazone', 'Cefoperazone dihydrate', 'Ceforanide', 'Cefotaxime', 'Cefotaxime sodium salt', 'Cefotetan', 'Cefotiam hydrochloride', 'Cefoxitin', 'Cefoxitin ', 'Cefoxitin sodium salt', 'Cefpodoxime Proxetil', 'Cefsulodin', 'Cefsulodin sodium salt', 'Ceftaroline', 'Ceftaroline/avibactam', 'Ceftazidime pentahydrate', 'Ceftazidime/avibactam', 'Ceftibuten', 'Ceftriaxone', 'Cefuroxime', 'Cefuroxime ', 'Cefuroxime axetil', 'Cefuroxime sodium salt', 'Cephalosporanic acid, 7-amino', 'Cephalothin sodium', 'Cephalothin sodium salt', 'Cephazolin', 'Cetirizine', 'Chlorcyclizine hydrochloride', 'Chlormezanone', 'Chlorotrianisene', 'Chloroxine', 'Chlorpheniramine maleate', 'Chlorpromazine hydrochloride', 'Chlorprothixene hydrochloride', 'Chlortetracycline hydrochloride', 'Cilnidipine', 'Cimetidine', 'Cinnarizine', 'Cinoxacin', 'Ciprofloxacin', 'Ciprofloxacin hydrochloride monohydrate', 'Cladribine', 'Clarithromycin', 'Clarithromycin plus metronidazole', 'Clavulanate potassium salt', 'Clemastine fumarate', 'Clemizole', 'Clemizole hydrochloride', 'Clinafloxacin', 'Clindamycin hydrochloride', 'Clioquinol', 'Clofarabine', 'Clofilium tosylate', 'Clomiphene citrate (Z,E)', 'Clomipramine hydrochloride', 'Clonidine', 'Clopidogrel sulfate', 'Closantel', 'Clotrimazole', 'Cloxacillin sodium salt', 'Colistin sulfate', 'Corticosteroids', 'Cyclobenzaprine', 'Cyclobenzaprine hydrochloride', 'Cyclopenthiazide', 'Cyclophosphamide', 'Cyclosporin A', 'Cyproheptadine hydrochloride', 'Cyproterone acetate', 'Cytarabine', 'Dacarbazine', 'Danazol', 'Dantrolene sodium salt', 'Darifenacin hydrobromide', 'Dasatinib', 'Daunorubicin', 'Daunorubicin hydrochloride', 'Deflazacort', 'Demecarium bromide', 'Demeclocycline hydrochloride', 'Deptropine citrate', 'Dequalinium dichloride', 'Dexamethasone', 'Diacerein', 'Diacetamate', 'Diclazuril', 'Diclofenac', 'Dicloxacillin sodium salt hydrate', 'Dicyclomine', 'Dicyclomine hydrochloride', 'Diethylstilbestrol', 'Diflorasone diacetate', 'Digoxin', 'Diloxanide furoate', 'Diltiazem', 'Dimethisoquin hydrochloride', 'Diphenylpyraline', 'Dipyridamole', 'Dirithromycin', 'Disulfiram', 'Doxazosin mesylate', 'Doxorubicin', 'Doxorubicin hydrochloride', 'Doxycycline', 'Doxycycline hydrochloride', 'Drospirenone', 'Duloxetine', 'Ebselen', 'Eburnamonine (-)', 'Econazole nitrate', 'Efavirenz', 'Enalapril maleate', 'Enilconazole', 'Enoxacin', 'Entacapone', 'Epirizole', 'Ergonovine maleate', 'Ergotamine tartrate', 'Erlotinib', 'Estradiol Valerate', 'Estramustine', 'Estropipate', 'Eszopiclone', 'Ethaverine hydrochloride', 'Ethopropazine', 'Ethopropazine hydrochloride', 'Ethoxzolamide', 'Etodolac', 'Etofenamate', 'Etomidate', 'Etoposide', 'Etretinate', 'Ezetimibe', 'Fadrozole hydrochloride', 'Famciclovir', 'Famprofazone', 'Febuxostat', 'Felodipine', 'Fenbendazole', 'Fenbufen', 'Fendiline hydrochloride', 'Fenofibrate', 'Fenspiride', 'Fentiazac', 'Fexofenadine HCl', 'Finasteride', 'Fleroxacin', 'Florfenicol', 'Floxuridine', 'Flucloxacillin sodium', 'Fluconazole', 'Flucytosine', 'Fludarabine', 'Fludarabine de phosphate', 'Flufenamic acid', 'Flumequine', 'Flunarizine dihydrochloride', 'Flunixin meglumine', 'Fluorometholone', 'Fluphenazine', 'Fluphenazine dihydrochloride', 'Fluspirilen', 'Fluvoxamine maleate', 'Furaltadone hydrochloride', 'Furazolidone', 'Fusidic acid sodium salt', 'GBR 12909 dihydrochloride', 'Gatifloxacin', 'Gemcitabine', 'Gentamicine sulfate', 'Glafenine hydrochloride', 'Gliclazide', 'Glipizide', 'Gliquidone', 'Glycyrrhizic acid', 'Guanadrel sulfate', 'Halofantrine hydrochloride', 'Haloperidol', 'Haloprogin', 'Hexachlorophene', 'Hexestrol', 'Hexetidine', 'Hycanthone', 'Hydrocortisone base', 'Hypochlorite', 'Ibutilide fumarate', 'Idarubicin', 'Idebenone', 'Idoxuridine', 'Imatinib', 'Imipenem', 'Imiquimod', 'Indomethacin', 'Infliximab', 'Iocetamic acid', 'Iohexol', 'Iopanoic acid', 'Irbesartan', 'Irinotecan', 'Irsogladine maleate', 'Isoconazole', 'Itraconazole', 'Ketorolac tromethamine', 'Lacidipine', 'Lactulose', 'Lansoprazole', 'Latamoxef', 'Laxatives', 'Leflunomide', 'Levodopa', 'Levofloxacin', 'Levonorgestrel', 'Lidoflazine', 'Linagliptin', 'Lincomycin hydrochloride', 'Linezolid', 'Lofexidine ', 'Lomefloxacin', 'Lomefloxacin hydrochloride', 'Loperamide hydrochloride', 'Loracarbef', 'Losartan', 'Loxapine succinate', 'Lymecycline', 'Lynestrenol', 'Mafenide', 'Mafenide hydrochloride', 'Mebendazole', 'Mebhydroline 1,5-naphtalenedisulfonate', 'Meclocycline sulfosalicylate', 'Meclofenamic acid sodium salt monohydrate', 'Meclozine dihydrochloride', 'Mefloquine', 'Mefloquine hydrochloride', 'Megestrol acetate', 'Melphalan', 'Memantine', 'Menadione', 'Merbromin', 'Meropenem', 'Mesalazine', 'Mesoridazine besylate', 'Metaxalone', 'Metergoline', 'Metformin', 'Methacycline hydrochloride', 'Methantheline bromide', 'Methiazole', 'Methiothepin maleate', 'Methotrexate', 'Methotrimeprazine maleat salt', 'Methsuximide', 'Methyl benzethonium chloride', 'Methylphenidate', 'Methysergide maleate', 'Metitepine maleate', 'Metixene hydrochloride', 'Metoprolol tartrate', 'Mevastatin', 'Miconazole', 'Mifepristone', 'Minocycline hydrochloride', 'Mitomycin C', 'Mitotane', 'Mitoxantrone', 'Mometasone furoate', 'Monensin sodium', 'Monensin sodium salt', 'Montelukast', 'Moricizine hydrochloride', 'Moxalactam', 'Moxalactam disodium salt', 'Moxifloxacin', 'Mycophenolate mofetil', 'Nabumetone', 'Nadifloxacin', 'Nafcillin sodium salt monohydrate', 'Nafronyl oxalate', 'Naftopidil', 'Naftopidil dihydrochloride', 'Nalidixic acid sodium salt', 'Naproxen(+)', 'Nateglinide', 'Nefazodone HCl', 'Nelarabine', 'Neocarzinostatin', 'Neostigmine bromide', 'Nevirapine', 'Nicergoline', 'Niclosamide', 'Nicorandil', 'Nifuroxazide', 'Nifurtimox', 'Nilutamide', 'Nimesulide', 'Nimodipine', 'Niridazole', 'Nitrazepam', 'Nitrendipine', 'Nitrobenzodiazepine', 'Nitrofural', 'Nitrofurantoin', 'Nizatidine', 'Norcyclobenzaprine', 'Norfloxacin', 'Norgestimate', 'Novobiocin sodium salt', 'Ofloxacin', 'Olanzapine', 'Olmesartan medoxomil', 'Omeprazole', 'Oorethindrone acetate', 'Oorgestimate', 'Ooscapine', 'Ornidazole', 'Orphenadrine citrate', 'Oxacillin sodium', 'Oxaprozin', 'Oxcarbazepine', 'Oxethazaine', 'Oxibendazol', 'Oxiconazole Nitrate', 'Oxolinic acid', 'Oxybutynin chloride', 'Oxytetracycline dihydrate', 'Paclitaxel', 'Paliperidone', 'Paracetamol', 'Parbendazole', 'Pefloxacine', 'Pemirolast potassium', 'Penbutolol sulfate', 'Pentamidine isethionate', 'Pentostatin', 'Perhexiline maleate', 'Pericyazine', 'Perphenazine', 'Phenazopyridine', 'Phenethicillin potassium ', 'Phenethicillin potassium salt', 'Phenformin', 'Phenindione', 'Phenoxyethanol', 'Phenytoin sodium', 'Picosulfuric acid', 'Pidotimod', 'Pimethixene maleate', 'Pimozide', 'Pinaverium bromide', 'Pioglitazone', 'Pipemidic acid', 'Piperacillin sodium salt', 'Pivampicillin', 'Pivmecillinam hydrochloride', 'Pizotifen malate', 'Pranlukast', 'Pranoprofen', 'Prenylamine lactate', 'Pridinol methanesulfonate salt', 'Prilocaine hydrochloride', 'Primaquine phosphate', 'Procarbazine', 'Prochlorperazine dimaleate', 'Promazine hydrochloride', 'Promethazine hydrochloride', 'Proton pump inhibitors', 'Protriptyline hydrochloride', 'Pyrimethamine', 'Pyrvinium pamoate', 'Quetiapine hemifumarate', 'Quinacrine dihydrochloride dihydrate', 'Quinapril', 'Quinupristin/dalfopristin', 'R(-) Apomorphine hydrochloride hemihydrate', 'Rabeprazole Sodium salt', 'Racecadotril', 'Racepinephrine HCl', 'Raloxifene hydrochloride', 'Ramelteon', 'Ramipril', 'Rebamipide', 'Repaglinide', 'Resveratrol', 'Ribavirin', 'Ribostamycin sulfate salt', 'Rifapentine', 'Rifaximin', 'Riluzole', 'Riluzole hydrochloride', 'Risperidone', 'Ritipenem acoxil', 'Ritonavir', 'Rizatriptan benzoate', 'Ronidazole', 'Rosuvastatin', 'Roxatidine acetate', 'Roxithromycin', 'Rufloxacin', 'Salmeterol', 'Saquinavir mesylate', 'Sarafloxacin', 'Secnidazole', 'Secoisolariciresinol', 'Sertaconazole nitrate', 'Sertindole', 'Sildenafil citrate', 'Sisomicin sulfate', 'Solithromycin', 'Sorivudine', 'Sotalol', 'Sparfloxacin', 'Spectinomycin dihydrochloride', 'Spiperone', 'Spiramycin', 'Stanozolol', 'Statins', 'Streptonegrin', 'Streptozotocin', 'Sulbactam', 'Sulconazole nitrate', 'Sulfamonomethoxine', 'Sulfasalazine', 'Sulfinpyrazone', 'Suloctidil', 'Sulpiride', 'Sumatriptan succinate', 'Sunitinib', 'Tacrolimus', 'Tadalafil', 'Talampicillin hydrochloride', 'Tamoxifen', 'Tamoxifen citrate', 'Tazobactam', 'Tegafur', 'Teicoplanin', 'Telavancin', 'Telithromycin', 'Telmisartan', 'Temozolomide', 'Tenatoprazole', 'Terfenadine', 'Testosterone propionate', 'Tetracycline hydrochloride', 'Thiamphenicol', 'Thiethylperazine dimalate', 'Thimerosal', 'Thioguanosine', 'Thiopurines', 'Thioridazine hydrochloride', 'Thiostrepton', 'Thiothixene', 'Thonzonium bromide', 'Thyroxine (L)', 'Ticarcillin sodium', 'Tigecycline', 'Tinidazole', 'Tioconazole', \"Tiratricol, 3,3',5-triiodothyroacetic acid\", 'Tolazamide', 'Tolfenamic acid', 'Tolnaftate', 'Toltrazuril', 'Toremifene', 'Tosufloxacin hydrochloride', 'Trandolapril', 'Tranilast', 'Trans-resveratrol', 'Trazodone hydrochloride', 'Tretazicar', 'Tribenoside', 'Trifluoperazine dihydrochloride', 'Triflupromazine hydrochloride', 'Trifluridine', 'Trihexyphenidyl', 'Trimebutine maleate', 'Trimeprazine tartrate', 'Trimetazidine dihydrochloride', 'Trimethoprim', 'Troglitazone', 'Troleandomycin', 'Ustekinumab', 'Valacyclovir', 'Valsartan', 'Vancomycin', 'Vancomycin hydrochloride', 'Vardenafil', 'Vecuronium bromide', 'Vedolizumab', 'Vidarabine', 'Vilazodone', 'Vinblastine', 'Vinpocetine', 'Vitamin D', 'Voriconazole', 'Zafirlukast', 'Zaleplon', 'Zidovudine', 'Zileuton', 'Ziprasidone  Hydrochloride', 'Ziprasidone mesylate', 'Zonisamide', 'Zotepine', 'Zuclopenthixol dihydrochloride', 'Β-Lapachone']\n",
      "607\n"
     ]
    }
   ],
   "source": [
    "df3 = pd.read_csv('masi_matrix.csv')\n",
    "cols_list1 = df3.columns.tolist()\n",
    "cols_list1.pop(0)\n",
    "print(cols_list1)\n",
    "print(len(cols_list1))\n"
   ]
  }
 ],
 "metadata": {
  "kernelspec": {
   "display_name": "Python 3",
   "language": "python",
   "name": "python3"
  },
  "language_info": {
   "codemirror_mode": {
    "name": "ipython",
    "version": 3
   },
   "file_extension": ".py",
   "mimetype": "text/x-python",
   "name": "python",
   "nbconvert_exporter": "python",
   "pygments_lexer": "ipython3",
   "version": "3.9.2"
  },
  "orig_nbformat": 4
 },
 "nbformat": 4,
 "nbformat_minor": 2
}
